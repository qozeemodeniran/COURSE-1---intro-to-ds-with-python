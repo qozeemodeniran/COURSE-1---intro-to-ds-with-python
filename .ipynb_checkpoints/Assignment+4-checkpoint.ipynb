{
 "cells": [
  {
   "cell_type": "markdown",
   "metadata": {},
   "source": [
    "---\n",
    "\n",
    "_You are currently looking at **version 1.1** of this notebook. To download notebooks and datafiles, as well as get help on Jupyter notebooks in the Coursera platform, visit the [Jupyter Notebook FAQ](https://www.coursera.org/learn/python-data-analysis/resources/0dhYG) course resource._\n",
    "\n",
    "---"
   ]
  },
  {
   "cell_type": "code",
   "execution_count": null,
   "metadata": {},
   "outputs": [],
   "source": [
    "import pandas as pd\n",
    "import numpy as np\n",
    "from scipy.stats import ttest_ind"
   ]
  },
  {
   "cell_type": "markdown",
   "metadata": {},
   "source": [
    "# Assignment 4 - Hypothesis Testing\n",
    "This assignment requires more individual learning than previous assignments - you are encouraged to check out the [pandas documentation](http://pandas.pydata.org/pandas-docs/stable/) to find functions or methods you might not have used yet, or ask questions on [Stack Overflow](http://stackoverflow.com/) and tag them as pandas and python related. And of course, the discussion forums are open for interaction with your peers and the course staff.\n",
    "\n",
    "Definitions:\n",
    "* A _quarter_ is a specific three month period, Q1 is January through March, Q2 is April through June, Q3 is July through September, Q4 is October through December.\n",
    "* A _recession_ is defined as starting with two consecutive quarters of GDP decline, and ending with two consecutive quarters of GDP growth.\n",
    "* A _recession bottom_ is the quarter within a recession which had the lowest GDP.\n",
    "* A _university town_ is a city which has a high percentage of university students compared to the total population of the city.\n",
    "\n",
    "**Hypothesis**: University towns have their mean housing prices less effected by recessions. Run a t-test to compare the ratio of the mean price of houses in university towns the quarter before the recession starts compared to the recession bottom. (`price_ratio=quarter_before_recession/recession_bottom`)\n",
    "\n",
    "The following data files are available for this assignment:\n",
    "* From the [Zillow research data site](http://www.zillow.com/research/data/) there is housing data for the United States. In particular the datafile for [all homes at a city level](http://files.zillowstatic.com/research/public/City/City_Zhvi_AllHomes.csv), ```City_Zhvi_AllHomes.csv```, has median home sale prices at a fine grained level.\n",
    "* From the Wikipedia page on college towns is a list of [university towns in the United States](https://en.wikipedia.org/wiki/List_of_college_towns#College_towns_in_the_United_States) which has been copy and pasted into the file ```university_towns.txt```.\n",
    "* From Bureau of Economic Analysis, US Department of Commerce, the [GDP over time](http://www.bea.gov/national/index.htm#gdp) of the United States in current dollars (use the chained value in 2009 dollars), in quarterly intervals, in the file ```gdplev.xls```. For this assignment, only look at GDP data from the first quarter of 2000 onward.\n",
    "\n",
    "Each function in this assignment below is worth 10%, with the exception of ```run_ttest()```, which is worth 50%."
   ]
  },
  {
   "cell_type": "code",
   "execution_count": null,
   "metadata": {},
   "outputs": [],
   "source": [
    "# Use this dictionary to map state names to two letter acronyms\n",
    "states = {'OH': 'Ohio', 'KY': 'Kentucky', 'AS': 'American Samoa', 'NV': 'Nevada', 'WY': 'Wyoming', 'NA': 'National', 'AL': 'Alabama', 'MD': 'Maryland', 'AK': 'Alaska', 'UT': 'Utah', 'OR': 'Oregon', 'MT': 'Montana', 'IL': 'Illinois', 'TN': 'Tennessee', 'DC': 'District of Columbia', 'VT': 'Vermont', 'ID': 'Idaho', 'AR': 'Arkansas', 'ME': 'Maine', 'WA': 'Washington', 'HI': 'Hawaii', 'WI': 'Wisconsin', 'MI': 'Michigan', 'IN': 'Indiana', 'NJ': 'New Jersey', 'AZ': 'Arizona', 'GU': 'Guam', 'MS': 'Mississippi', 'PR': 'Puerto Rico', 'NC': 'North Carolina', 'TX': 'Texas', 'SD': 'South Dakota', 'MP': 'Northern Mariana Islands', 'IA': 'Iowa', 'MO': 'Missouri', 'CT': 'Connecticut', 'WV': 'West Virginia', 'SC': 'South Carolina', 'LA': 'Louisiana', 'KS': 'Kansas', 'NY': 'New York', 'NE': 'Nebraska', 'OK': 'Oklahoma', 'FL': 'Florida', 'CA': 'California', 'CO': 'Colorado', 'PA': 'Pennsylvania', 'DE': 'Delaware', 'NM': 'New Mexico', 'RI': 'Rhode Island', 'MN': 'Minnesota', 'VI': 'Virgin Islands', 'NH': 'New Hampshire', 'MA': 'Massachusetts', 'GA': 'Georgia', 'ND': 'North Dakota', 'VA': 'Virginia'}"
   ]
  },
  {
   "cell_type": "code",
   "execution_count": null,
   "metadata": {
    "umich_part_id": "021",
    "umich_partlist_id": "004"
   },
   "outputs": [],
   "source": [
    "def get_list_of_university_towns():\n",
    "    '''Returns a DataFrame of towns and the states they are in from the \n",
    "    university_towns.txt list. The format of the DataFrame should be:\n",
    "    DataFrame( [ [\"Michigan\", \"Ann Arbor\"], [\"Michigan\", \"Yipsilanti\"] ], \n",
    "    columns=[\"State\", \"RegionName\"]  )\n",
    "\n",
    "    The following cleaning needs to be done:\n",
    "\n",
    "    1. For \"State\", removing characters from \"[\" to the end.\n",
    "    2. For \"RegionName\", when applicable, removing every character from \" (\" to the end.\n",
    "    3. Depending on how you read the data, you may need to remove newline character '\\n'. '''\n",
    "\n",
    "    import re\n",
    "    import pandas as pd\n",
    "\n",
    "    # Open the file, read the lines, and close the file\n",
    "    fo = open('university_towns.txt', \"r\")\n",
    "    lines = fo.readlines()\n",
    "    fo.close()\n",
    "\n",
    "    # remove empty lines\n",
    "    new_lines = []\n",
    "    for line in lines:\n",
    "        if not re.match(r'^\\s*$', line):\n",
    "            new_lines.append(line)\n",
    "\n",
    "    lines = new_lines.copy()\n",
    "\n",
    "    # Strip the white space at the beginning and end of each line\n",
    "    for index, line in enumerate(lines):\n",
    "        lines[index] = line.strip()\n",
    "\n",
    "        # Loop through the lines to form a dataframe\n",
    "    df_result = pd.DataFrame(columns=('State', 'RegionName'))\n",
    "    i = 0  # counter for each new line in the dataframe\n",
    "    state_string = \"\"  # Empty initial state string\n",
    "    region_string = \"\"  # Empty initial region string\n",
    "    for line in lines:\n",
    "        if '[edit]' in line:\n",
    "            state_string = line.replace('[edit]', \"\")\n",
    "        else:\n",
    "            region_string = re.sub(r' \\(.*', \"\", line)\n",
    "            df_result.loc[i] = [state_string, region_string]\n",
    "            i += 1\n",
    "            \n",
    "    return df_result\n",
    "\n",
    "get_list_of_university_towns()\n",
    "                    "
   ]
  },
  {
   "cell_type": "code",
   "execution_count": null,
   "metadata": {
    "umich_part_id": "022",
    "umich_partlist_id": "004"
   },
   "outputs": [],
   "source": [
    "def get_recession_start():\n",
    "    '''Returns the year and quarter of the recession start time as a \n",
    "    string value in a format such as 2005q3'''\n",
    "    gdp = pd.read_excel('gdplev.xls',header = 219,names = ['Time', 'GDP','GDP Chained','none'])\n",
    "    c_to_keep = ['Time','GDP Chained']\n",
    "    gdp = gdp[c_to_keep].set_index(gdp['Time'])\n",
    "    gdp = gdp['GDP Chained']\n",
    "    rec = None\n",
    "    for i in range(0,len(gdp)-2):\n",
    "        if (gdp[i] > gdp[i+1]) and (gdp[i+1] > gdp[i+2]):\n",
    "            rec = i\n",
    "            break\n",
    "    return gdp.index[rec]"
   ]
  },
  {
   "cell_type": "code",
   "execution_count": null,
   "metadata": {
    "umich_part_id": "023",
    "umich_partlist_id": "004"
   },
   "outputs": [],
   "source": [
    "def get_recession_end():\n",
    "    '''Returns the year and quarter of the recession end time as a \n",
    "    string value in a format such as 2005q3'''\n",
    "    gdp = pd.read_excel('gdplev.xls',header = 219,names = ['Time', 'GDP','GDP Chained','none'])\n",
    "    c_to_keep = ['Time','GDP Chained']\n",
    "    gdp = gdp[c_to_keep].set_index(gdp['Time'])\n",
    "    gdp = gdp['GDP Chained']\n",
    "    rec = None\n",
    "    end = None\n",
    "    for i in range(0,len(gdp)-2):\n",
    "        if (gdp[i] > gdp[i+1]) & (gdp[i+1] > gdp[i+2]):\n",
    "            rec = i\n",
    "            break\n",
    "    for i in range(rec,len(gdp)-2):\n",
    "        if (gdp[i+2] > gdp[i+1]) & (gdp[i+1] > gdp[i]):\n",
    "            end = i+2\n",
    "            break\n",
    "\n",
    "    return gdp.index[end]"
   ]
  },
  {
   "cell_type": "code",
   "execution_count": null,
   "metadata": {
    "umich_part_id": "024",
    "umich_partlist_id": "004"
   },
   "outputs": [],
   "source": [
    "def get_recession_bottom():\n",
    "    '''Returns the year and quarter of the recession bottom time as a \n",
    "    string value in a format such as 2005q3'''\n",
    "    gdp = pd.read_excel('gdplev.xls',header = 219,names = ['Time', 'GDP','GDP Chained','none'])\n",
    "    c_to_keep = ['Time','GDP Chained']\n",
    "    gdp = gdp[c_to_keep].set_index(gdp['Time'])\n",
    "    gdp = gdp['GDP Chained']\n",
    "    rec = None\n",
    "    end = None\n",
    "    for i in range(0,len(gdp)-2):\n",
    "        if (gdp[i] > gdp[i+1]) & (gdp[i+1] > gdp[i+2]):\n",
    "            rec = i\n",
    "            break\n",
    "    for i in range(rec,len(gdp)-2):\n",
    "        if (gdp[i+2] > gdp[i+1]) & (gdp[i+1] > gdp[i]):\n",
    "            end = i+2\n",
    "            break\n",
    "    mini = str(gdp[gdp == min(gdp[rec:end])].index.values)[2:8]\n",
    "    \n",
    "    return mini"
   ]
  },
  {
   "cell_type": "code",
   "execution_count": null,
   "metadata": {
    "umich_part_id": "025",
    "umich_partlist_id": "004"
   },
   "outputs": [],
   "source": [
    "def convert_housing_data_to_quarters():\n",
    "    '''Converts the housing data to quarters and returns it as mean \n",
    "    values in a dataframe. This dataframe should be a dataframe with\n",
    "    columns for 2000q1 through 2016q3, and should have a multi-index\n",
    "    in the shape of [\"State\",\"RegionName\"].\n",
    "    \n",
    "    Note: Quarters are defined in the assignment description, they are\n",
    "    not arbitrary three month periods.\n",
    "    \n",
    "    The resulting dataframe should have 67 columns, and 10,730 rows.\n",
    "    '''\n",
    "    house = pd.read_csv('City_Zhvi_AllHomes.csv',header = 0)\n",
    "    cols = [0]\n",
    "    a = list(range(3,51))\n",
    "    house.drop(house.columns[a],axis=1,inplace=True)\n",
    "    house.drop(house.columns[0],axis=1,inplace=True)\n",
    "    \n",
    "    states = {'OH': 'Ohio', 'KY': 'Kentucky', 'AS': 'American Samoa', 'NV': 'Nevada', 'WY': 'Wyoming', 'NA': 'National', 'AL': 'Alabama', 'MD': 'Maryland', 'AK': 'Alaska', 'UT': 'Utah', 'OR': 'Oregon', 'MT': 'Montana', 'IL': 'Illinois', 'TN': 'Tennessee', 'DC': 'District of Columbia', 'VT': 'Vermont', 'ID': 'Idaho', 'AR': 'Arkansas', 'ME': 'Maine', 'WA': 'Washington', 'HI': 'Hawaii', 'WI': 'Wisconsin', 'MI': 'Michigan', 'IN': 'Indiana', 'NJ': 'New Jersey', 'AZ': 'Arizona', 'GU': 'Guam', 'MS': 'Mississippi', 'PR': 'Puerto Rico', 'NC': 'North Carolina', 'TX': 'Texas', 'SD': 'South Dakota', 'MP': 'Northern Mariana Islands', 'IA': 'Iowa', 'MO': 'Missouri', 'CT': 'Connecticut', 'WV': 'West Virginia', 'SC': 'South Carolina', 'LA': 'Louisiana', 'KS': 'Kansas', 'NY': 'New York', 'NE': 'Nebraska', 'OK': 'Oklahoma', 'FL': 'Florida', 'CA': 'California', 'CO': 'Colorado', 'PA': 'Pennsylvania', 'DE': 'Delaware', 'NM': 'New Mexico', 'RI': 'Rhode Island', 'MN': 'Minnesota', 'VI': 'Virgin Islands', 'NH': 'New Hampshire', 'MA': 'Massachusetts', 'GA': 'Georgia', 'ND': 'North Dakota', 'VA': 'Virginia'}\n",
    "    \n",
    "    house.replace({'State':states}, inplace = True)\n",
    "    house.set_index(['State','RegionName'],inplace = True)\n",
    "    house = house.groupby(pd.PeriodIndex(house.columns, freq='Q'), axis=1).mean()\n",
    "    \n",
    "    return house\n"
   ]
  },
  {
   "cell_type": "code",
   "execution_count": null,
   "metadata": {
    "umich_part_id": "026",
    "umich_partlist_id": "004"
   },
   "outputs": [],
   "source": [
    "def run_ttest():\n",
    "    '''First creates new data showing the decline or growth of housing prices\n",
    "    between the recession start and the recession bottom. Then runs a ttest\n",
    "    comparing the university town values to the non-university towns values, \n",
    "    return whether the alternative hypothesis (that the two groups are the same)\n",
    "    is true or not as well as the p-value of the confidence. \n",
    "\n",
    "    Return the tuple (different, p, better) where different=True if the t-test is\n",
    "    True at a p<0.01 (we reject the null hypothesis), or different=False if \n",
    "    otherwise (we cannot reject the null hypothesis). The variable p should\n",
    "    be equal to the exact p value returned from scipy.stats.ttest_ind(). The\n",
    "    value for better should be either \"university town\" or \"non-university town\"\n",
    "    depending on which has a lower mean price ratio (which is equivilent to a\n",
    "    reduced market loss).'''\n",
    "\n",
    "    import pandas as pd\n",
    "    import numpy as np\n",
    "    from scipy.stats import ttest_ind\n",
    "\n",
    "    univ_towns = get_list_of_university_towns()\n",
    "    univ_towns['univ_town'] = True\n",
    "\n",
    "    # merge the housing data with university town DataFrames\n",
    "    df = pd.merge(convert_housing_data_to_quarters(), univ_towns, how='outer', left_index=True, right_on=['State', 'RegionName'])\n",
    "    df['univ_town'] = df['univ_town'].replace({np.NaN: False})\n",
    "\n",
    "    # Get the recession quarters\n",
    "    recession_start = get_recession_start()\n",
    "    recession_bottom = get_recession_bottom()\n",
    "\n",
    "    # Parse the year and quarter of the recession quarters\n",
    "    year_recession_start = int(recession_start[0:4])\n",
    "    qtr_recession_start = int(recession_start[-1])\n",
    "    year_recession_bottom = int(recession_bottom[0:4])\n",
    "    qtr_recession_bottom = int(recession_bottom[-1])\n",
    "\n",
    "    # get the columns to keep in the merged DataFrame\n",
    "    cols_to_keep = ['State', 'RegionName', 'univ_town']\n",
    "    qtrs_to_keep = []\n",
    "    for i in range(year_recession_start, year_recession_bottom+1):\n",
    "        for j in range(1, 5):\n",
    "            if (i == year_recession_start and j < qtr_recession_start)\\\n",
    "                    or (i == year_recession_bottom and j > qtr_recession_bottom):\n",
    "                pass\n",
    "            else:\n",
    "                qtrs_to_keep.append(str(i) + 'q' + str(j))\n",
    "    df = df[cols_to_keep + qtrs_to_keep]\n",
    "\n",
    "    # Compute the price_ratio\n",
    "    df['price_ratio'] = df[recession_bottom] - df[recession_start]\n",
    "\n",
    "    # t-test to determine if there is a difference between university and non-university towns\n",
    "    univ_town_price_ratio = df[df['univ_town'] == True]['price_ratio']\n",
    "    non_univ_town_price_ratio = df[df['univ_town'] == False]['price_ratio']\n",
    "    st, p = ttest_ind(univ_town_price_ratio, non_univ_town_price_ratio, nan_policy='omit',)\n",
    "\n",
    "    # get different and better values\n",
    "    different = False\n",
    "    if p < 0.01:\n",
    "        different = True\n",
    "\n",
    "    # determine which type of town is better\n",
    "    better = \"\"\n",
    "    if univ_town_price_ratio.mean() > non_univ_town_price_ratio.mean():\n",
    "        better = \"university town\"\n",
    "    else:\n",
    "        better = \"non-university town\"\n",
    "\n",
    "    return (different, p, better)\n",
    "\n",
    "run_ttest()"
   ]
  },
  {
   "cell_type": "code",
   "execution_count": null,
   "metadata": {},
   "outputs": [],
   "source": []
  },
  {
   "cell_type": "code",
   "execution_count": null,
   "metadata": {},
   "outputs": [],
   "source": []
  }
 ],
 "metadata": {
  "coursera": {
   "course_slug": "python-data-analysis",
   "graded_item_id": "Il9Fx",
   "launcher_item_id": "TeDW0",
   "part_id": "WGlun"
  },
  "kernelspec": {
   "display_name": "Python 3",
   "language": "python",
   "name": "python3"
  },
  "language_info": {
   "codemirror_mode": {
    "name": "ipython",
    "version": 3
   },
   "file_extension": ".py",
   "mimetype": "text/x-python",
   "name": "python",
   "nbconvert_exporter": "python",
   "pygments_lexer": "ipython3",
   "version": "3.7.1"
  },
  "umich": {
   "id": "Assignment 4",
   "version": "1.1"
  }
 },
 "nbformat": 4,
 "nbformat_minor": 1
}
